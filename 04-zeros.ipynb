{
  "cells": [
    {
      "cell_type": "markdown",
      "source": [
        "# Zeros of functions\n\nRead about this topic here: [Solving for zeros with julia](http://mth229.github.io/zeros.html).\n\nFor the impatient, these questions are related to the zeros of a\nreal-valued function $f$. That is, those values of $x$ with $f(x)=0$. Finding\nzeros of a polynomial (called \"roots\" when the function is a polynomial) is a familiar\ntask that can be aided by a few key equations, such as the quadratic\nequation. However, in general, finding a zero of a function will require a\nnumeric approach.  The `Roots` package of `Julia` will provide some\nfeatures. This is loaded when `MTH229` is:"
      ],
      "metadata": {}
    },
    {
      "outputs": [],
      "cell_type": "code",
      "source": [
        "using MTH229\nusing Plots"
      ],
      "metadata": {},
      "execution_count": null
    },
    {
      "cell_type": "markdown",
      "source": [
        "Graphically, a zero of a continuous function $f(x)$ occurs where the graph\ncrosses or touches the $x$-axis. Without much work, a zero can be *estimated* to\none or two decimal points from a graph. For example, we can zoom in on the zero of $f(x)\n= x^5 + x - 1$ by graphing over $[0,1]$:"
      ],
      "metadata": {}
    },
    {
      "outputs": [],
      "cell_type": "code",
      "source": [
        "f(x) = x^5 + x - 1\nplot(f, 0, 1)\nplot!(zero, 0, 1)"
      ],
      "metadata": {},
      "execution_count": null
    },
    {
      "cell_type": "markdown",
      "source": [
        "We can see that the zero is near $0.75$, but be careful reading too\nmuch into a graph. Since there are only so many pixels in a graph, and\ntypically even fewer points chosen, what looks like a curve is really\njust a stick figure if you zoom in far enough. Replotting over a\nsmaller domain can give more accuracy, but it is better to use a graph\nto get a sense of *where* the desired answer is and then use a\n*numeric* method to \"zoom\" in on the answer. In this project we\ndiscuss one such method for \"zooming in\" – the *bisection method*.\n\n\n#### The bisection method\n\nThe notes mention the bisection method for\nzero-finding. This is based on the *intermediate value theorem*:\n\n> The\n> [intermediate value theorem](https://en.wikipedia.org/wiki/Intermediate_value_theorem)\n> states that if a continuous function, $f$, over an interval, $[a, b]$,\n> takes values $f(a)$ and $f(b)$ at each end of the\n> interval, then it also takes any value between $f(a)$ and $f(b)$ at\n> some point within the interval.\n\n\n\nFor our purposes, this is specialized to \"Bolzano's theorem\":\n\n> If a continuous function has values of opposite sign inside a closed interval, then it has a zero in that interval\n\nIn particular, if $f(x)$ is *continuous* on $[a,b]$ **and** $f(a)$ and\n$f(b)$ have different signs, then there **must** be a value $c$ with\n$a < c < b$ with $f(c) = 0$.\n\n\nThere may be more than one zero, but there is a guarantee of at least one.\n\n## The bisection algorithm\n\nNot all functions can have their real zeros solved algebraically, and\nnot all applications can be answered by the accuracy provided by a\ngraph. In such situations, numeric methods may be of interest.\n\nThe `MTH229` package defines a `bisection` method implementing the\nbisection method, it assumes it has been passed values $a < b$ with $f(a)$ and $f(b)$\nhaving different sign. In short, `[a,b]` is a bracketing interval for $f$.\n\n\nThe algorithm to find a value $c$ proceeds in steps. At\neach step the bracketing interval is split in two at a value\n$m$. One -- and only one -- of these three things must be true: either $[a,m]$ is a bracketing interval, $[m,b]$ is a bracketing\ninterval, or $f(m) = 0$. If the latter, the algorithm stops, otherwise\nthe new bracketing interval splits the original one in half and the\nprocess proceeds again.\n\nRunning this demo illustrates."
      ],
      "metadata": {}
    },
    {
      "outputs": [],
      "cell_type": "code",
      "source": [
        "bisection(sin,  3, 4)"
      ],
      "metadata": {},
      "execution_count": null
    },
    {
      "cell_type": "markdown",
      "source": [
        "In the demo, after $8$ iterations, there aren't enough pixels to see more subdivisions, but\nmathematically, unless the algorithm finds an exact zero, this process would\ncontinue infinitely, with the bracketing interval getting infinitely\nsmall. In the process this traps the zero.\n\nOn the computer, the process basically stops when the size of the bracketing interval gets\ntoo small to subdivide using floating point numbers, unless instructed otherwise.\n\n\n## The fzero function\n\nIn the `Roots` package is the `fzero` method that implements the\nbisection method, only a bit more carefully. The `MTH229` package\nloads this for you.\n\nFor a bracketing interval, it is guaranteed to find a `c` such that\nthe function changes sign between adjacent floating point values\naround `c`, or `c` is an exact zero. It is used as:\n`fzero(f, a, b)`:"
      ],
      "metadata": {}
    },
    {
      "outputs": [],
      "cell_type": "code",
      "source": [
        "f(x) = x^2 - 2\nfzero(f, 1, 2)\t\t\t# finds sqrt(2)"
      ],
      "metadata": {},
      "execution_count": null
    },
    {
      "cell_type": "markdown",
      "source": [
        "### Solving for $f(x) = g(x)$.\n\nMany problems are more naturally expressed by solving $f(x) = g(x)$,\nand not $f(x) = 0$, as expected by `fzero`. This is no issue, as it\nonly requires the extra step of defining the difference function $h(x)\n= f(x) - g(x)$, as $h(x) = 0$ implies $f(x) = g(x)$.\n\nFor example, consider this question:\n\nFind the intersection point of $4 - e^{x/10} = e^{x/15}$ by first\n  graphing to see approximately where the answer is. From the graph,\n  identify a bracket and then use `fzero` to numerically estimate the\n  intersection point.\n\nWe could plot both functions:"
      ],
      "metadata": {}
    },
    {
      "outputs": [],
      "cell_type": "code",
      "source": [
        "f(x) = 4 - exp(x/10)\ng(x) = exp(x/15)\nplot(f, 0, 20)\nplot!(g, 0, 20)"
      ],
      "metadata": {},
      "execution_count": null
    },
    {
      "cell_type": "markdown",
      "source": [
        "Or we could plot the difference:"
      ],
      "metadata": {}
    },
    {
      "outputs": [],
      "cell_type": "code",
      "source": [
        "h(x) = f(x) - g(x)\nplot(h, 0, 20)\nplot!(zero, 0, 20)"
      ],
      "metadata": {},
      "execution_count": null
    },
    {
      "cell_type": "markdown",
      "source": [
        "From *either* graph, we see quickly that the interval $[5,10]$ will be\na bracketing interval for $h$, so we can find the intersection point\nwith:"
      ],
      "metadata": {}
    },
    {
      "outputs": [],
      "cell_type": "code",
      "source": [
        "fzero(h, 5, 10)"
      ],
      "metadata": {},
      "execution_count": null
    },
    {
      "cell_type": "markdown",
      "source": [
        "## The fzeros function\n\nHow to find *all* zeros of a function within a given interval? The\nbisection method guarantees only one between a *bracketing*\ninterval. Well, a simple algorithm---which is not guaranteed to find\nall zeros, but should do *pretty* well---is to divide the interval into\nmany *subintervals* and for each, see if the subinterval is a\n*bracketing* interval, and if so find a zero in that subinterval.\n\nThe `fzeros(f, a, b)` function does basically that, though it works a\nbit harder to find answers even when the subinterval is not a\nbracketing interval. It makes no guarantees though, as the bisection\nmethod can---and *may*---miss some answers.\nThe `fzeros` function is only *pretty* good at finding all the zeros over the interval. For some functions -- especially those cooked up by clever math professors -- the choice of interval can lead to `fzeros` finding fewer than is mathematically possible. The function should be used in combination with a plot and with as narrow an interval specified, as reasonable.\n\n\nSince `fzeros` can return 0, 1, or more zeros, it uses a container to\nhold its answers. This means that some numbers won't print with 16 digits displayed.\nThis does not mean the accuracy is lost, it is just not\ndisplayed.\n\n\n\n\n### Using answers\n\nThe output of `fzeros` is a collection of values. It may be desirable\nto pass these onto another function. This is essentially\n*composition*.  For example, we can check our work using this pattern:"
      ],
      "metadata": {}
    },
    {
      "outputs": [],
      "cell_type": "code",
      "source": [
        "f(x) = cos(x) + cos(2x)\nzs = fzeros(f, 0, 2pi)\nf.(zs)     # broadcast f over each of the zs"
      ],
      "metadata": {},
      "execution_count": null
    },
    {
      "cell_type": "markdown",
      "source": [
        "We see that the values are all basically $0$, save for round-off error.\n\nThe key above is the use of the \"dot\" to *broadcast* `f` over *each* value in the container `zs`. Just entering `f(zs)` would lead to error about no matching method.\n\n\n----"
      ],
      "metadata": {}
    },
    {
      "outputs": [],
      "cell_type": "code",
      "source": [
        ""
      ],
      "metadata": {},
      "execution_count": null
    }
  ],
  "nbformat_minor": 2,
  "metadata": {
    "language_info": {
      "file_extension": ".jl",
      "mimetype": "application/julia",
      "name": "julia",
      "version": "1.7.0"
    },
    "kernelspec": {
      "name": "julia-1.7",
      "display_name": "Julia 1.7.0",
      "language": "julia"
    }
  },
  "nbformat": 4
}
