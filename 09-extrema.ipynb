{
  "cells": [
    {
      "cell_type": "markdown",
      "source": [
        "# Maximization and minimization with Julia\n\n\n\nTo get started, we load our `MTH229` package for plotting and other features:"
      ],
      "metadata": {}
    },
    {
      "outputs": [],
      "cell_type": "code",
      "source": [
        "using MTH229\nusing Plots"
      ],
      "metadata": {},
      "execution_count": null
    },
    {
      "cell_type": "markdown",
      "source": [
        "### Quick background\n\nRead about this material here: [Maximization and minimization with julia](http://mth229.github.io/extrema.html).\n\nFor the impatient, *extrema* is nothing more than a fancy word for\ndescribing either a maximum *or* a minimum. In calculus, we have **two**\nconcepts of these: *relative* extrema and *absolute* extrema. Let's\nfocus for a second on *absolute* extrema which are defined through:\n\n> A value $y=f(x)$ is an *absolute maximum* over an interval\n> $[a,b]$ if $y \\geq f(x)$ for all $x$ in $[a,b]$. (An absolute minimum has $y \\leq f(x)$ instead.)\n\nOf special note is that an absolute extrema involves *both* a function **and** an interval.\n\n\nThere are two theorems which help identify extrema here. The first,\ndue to Bolzano, says that any continuous function on a *closed*\ninterval will *necessarily* have an absolute maximum and minimum on that\ninterval. The second, due to Fermat, tells us where to look: these\nabsolute maximums and minimums can only occur at end points or\ncritical points.\n\nBolzano and Fermat are historic figures. For us, we can plot a\nfunction to visually see extrema. The value of Bolzano is the\nknowledge that yes, plotting isn't a waste of time, as we are\n*guaranteed* to see what we look for. The value of Fermat is that if\nwe want to get *precise* numeric answers, we have a means: identify\nthe end points and the critical points then compare  the function at *just* these values.\n\n----\n\n## An example\n\nAmong all rectangles\nwith perimeter 24 find the one with maximum area.\n\nThis problem leads to two equations:\n\n* a constraint based on a fixed perimeter: $25 = 2b + 2h$.\n* an expression for the area: $A=h \\cdot b$.\n\nWe translate these into `Julia` functions. First, using the\nconstraint, we solve for one variable and then substitute this in:"
      ],
      "metadata": {}
    },
    {
      "outputs": [],
      "cell_type": "code",
      "source": [
        "h(b) = (25 - 2b) / 2\nA(b) = h(b) * b    # A = h * b translates to this"
      ],
      "metadata": {},
      "execution_count": null
    },
    {
      "cell_type": "markdown",
      "source": [
        "So we have area as a function of a single variable. Here `b` ranges\nfrom $0$ to no more than 10, as both `b` and `h` need be\nnon-negative. A plot shows the function to maximize:"
      ],
      "metadata": {}
    },
    {
      "outputs": [],
      "cell_type": "code",
      "source": [
        "plot(A, 0, 10)"
      ],
      "metadata": {},
      "execution_count": null
    },
    {
      "cell_type": "markdown",
      "source": [
        "Not only do we see a maximum value, we also can tell more:\n\n* the maximum happens at a critical point - not an end point\n* there is a unique critical point on this interval $[0,10]$.\n\nSo, we can use `fzero` to find the critical point:"
      ],
      "metadata": {}
    },
    {
      "outputs": [],
      "cell_type": "code",
      "source": [
        "x = fzero(A', 5)"
      ],
      "metadata": {},
      "execution_count": null
    },
    {
      "cell_type": "markdown",
      "source": [
        "We store the value as `x`. Is this the answer? Not quite, the question\nasks for the rectangle that gives the maximum area, so we should also\nfind the height. But this is just"
      ],
      "metadata": {}
    },
    {
      "outputs": [],
      "cell_type": "code",
      "source": [
        "h(x)"
      ],
      "metadata": {},
      "execution_count": null
    },
    {
      "cell_type": "markdown",
      "source": [
        "In fact, for the problems encountered within, the critical point, the\nconstraint at the critical point, or the function evaluated at the\ncritical point are used to answer the questions:"
      ],
      "metadata": {}
    },
    {
      "outputs": [],
      "cell_type": "code",
      "source": [
        "x, h(x), A(x)"
      ],
      "metadata": {},
      "execution_count": null
    },
    {
      "cell_type": "markdown",
      "source": [
        "Play this video to see this problem again and a related problem:\n\n\n[![asciicast](https://asciinema.org/a/yVC5AZrJl0WEcZ1kxzjn60d2S.svg)](https://asciinema.org/a/yVC5AZrJl0WEcZ1kxzjn60d2S)\n\n(This uses the Julia REPL, not a notebook; the begin/end block just combines commands like a cell.)\n\n----"
      ],
      "metadata": {}
    },
    {
      "outputs": [],
      "cell_type": "code",
      "source": [
        ""
      ],
      "metadata": {},
      "execution_count": null
    }
  ],
  "nbformat_minor": 2,
  "metadata": {
    "language_info": {
      "file_extension": ".jl",
      "mimetype": "application/julia",
      "name": "julia",
      "version": "1.7.0"
    },
    "kernelspec": {
      "name": "julia-1.7",
      "display_name": "Julia 1.7.0",
      "language": "julia"
    }
  },
  "nbformat": 4
}
