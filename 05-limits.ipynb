{
  "cells": [
    {
      "cell_type": "markdown",
      "source": [
        "# Investigating limits with Julia\n\nTo get started, we load the `MTH229` package so that we can make plots and use some symbolic math:"
      ],
      "metadata": {}
    },
    {
      "outputs": [],
      "cell_type": "code",
      "source": [
        "using MTH229\nusing Plots"
      ],
      "metadata": {},
      "execution_count": null
    },
    {
      "cell_type": "markdown",
      "source": [
        "----\n\n### Quick background\n\nRead about this material here: [Investigating limits with Julia](http://mth229.github.io/limits.html).\n\nFor the impatient, the expression\n\n$$~\n\\lim_{x \\rightarrow c} f(x) = L\n~$$\n\nsays that the limit as $x$ goes to $c$ of $f$ is $L$.\n\n>  Intuitively, as $x$ gets \"close\" to $c$, $f(x)$ should be close to $L$.\n\nIf $f(x)$ is *continuous* at $x=c$, then $L=f(c)$. This is almost\nalways the case for a randomly chosen $c$ - but almost never the case\nfor a textbook choice of $c$. Invariably with text book examples---though not\nalways---we will have `f(c) = NaN` indicating the function is\nindeterminate at `c`. For such cases we need to do more work to\nidentify if any such $L$ exists and when it does, what its value is.\n\n\nIn this project, we investigate limits three ways: graphically, with a table of numbers, and analytically, developing the inituition of  limits along the way.\n\n\n#### Graphical approach\n\nThe graphical approach is to plot the expression *near* $c$ and look visually what $f(x)$ goes to as $x$ gets close to $c$.\n\nFor example, what is this limit?\n\n$$~\n\\lim_{x \\rightarrow \\pi/2} \\frac{1 - \\sin(x)}{(\\pi/2 - x)^2}?\n~$$\n\nHere is a graph to investigate\nthe problem. We simply graph near $c$ and look:"
      ],
      "metadata": {}
    },
    {
      "outputs": [],
      "cell_type": "code",
      "source": [
        "f(x) = (1-sin(x)) / (pi/2 - x)^2\nc = pi/2\nplot(f, c - pi/6, c + pi/6)"
      ],
      "metadata": {},
      "execution_count": null
    },
    {
      "cell_type": "markdown",
      "source": [
        "From the graph, we see clearly that as $x$ is close to $c=\\pi/2$, $f(x)$\nis close to $1/2$. (The fact that `f(pi/2) = NaN` will either not come up, as `pi/2` is not among the points sampled or the `NaN` values will not be plotted.)\n\n\n\n## Using tables to investigate limits\n\n\n\nInvestigating a limit numerically requires us to operationalize the\nidea of $x$ getting close to $c$ and $f(x)$ getting close to $L$. Here\nwe do this manually:"
      ],
      "metadata": {}
    },
    {
      "outputs": [],
      "cell_type": "code",
      "source": [
        "f(x) = sin(x)/x\nf(0.1), f(0.01), f(0.001), f(0.0001), f(0.00001), f(0.000001)"
      ],
      "metadata": {},
      "execution_count": null
    },
    {
      "cell_type": "markdown",
      "source": [
        "From this we see a *right* limit at 0 appears to be $1$.\n\n\nWe can put the above into a column, by wrapping things in square brackets (forming a vector):"
      ],
      "metadata": {}
    },
    {
      "outputs": [],
      "cell_type": "code",
      "source": [
        "[f(0.1), f(0.01), f(0.001), f(0.0001), f(0.00001), f(0.000001)]"
      ],
      "metadata": {},
      "execution_count": null
    },
    {
      "cell_type": "markdown",
      "source": [
        "The style of printing makes it clear, the limit here should be $L=1$.\n\nLimits when $c\\neq 0$ are similar, but require points getting close to $c$. For example,\n\n$$~\n\\lim_{x \\rightarrow \\pi/2} \\frac{1 - \\sin(x)}{(\\pi/2 - x)^2}\n~$$\n\nhas a limit of $1/2$. We can investigate with:"
      ],
      "metadata": {}
    },
    {
      "outputs": [],
      "cell_type": "code",
      "source": [
        "c = pi/2\nf(x) = (1 - sin(x))/(pi/2 - x)^2\n[f(c+.1), f(c+.001), f(c+.00001), f(c+.0000001), f(c+.000000001)]"
      ],
      "metadata": {},
      "execution_count": null
    },
    {
      "cell_type": "markdown",
      "source": [
        "Wait, is the limit $1/2$ or $0$? At first $1/2$ seems like the answer, but the last number is $0$.\n\n\nHere we see a limitation of tables - when numbers get too small, that\nfact that they are represented in floating point becomes important. In\nthis case, for numbers too close to $\\pi/2$ the value on the computer\nfor `sin(x)` is just 1 and not a number near 1. Hence the denominator\nbecomes $0$, and so then the expression. (Near $1$, the floating point\nvalues are about $10^{-16}$ apart, so when two numbers are within\n$10^{-16}$ of each other, they can be rounded to the same number.)  So\nwatch out when seeing what the values of $f(x)$ get close to. Here it\nis clear that the limit is heading towards $0.5$ until we get too\nclose.\n\nFor convenience, the `lim` function from the `MTH229` package can make the above computations easier to do. Its use follows the common pattern: `action(function, arguments...)`. For example,"
      ],
      "metadata": {}
    },
    {
      "outputs": [],
      "cell_type": "code",
      "source": [
        "f(x) = (1 - sin(x))/(pi/2 - x)^2\nlim(f, pi/2)"
      ],
      "metadata": {},
      "execution_count": null
    },
    {
      "cell_type": "markdown",
      "source": [
        "The above will generate values just bigger than `pi/2` which are helpful to investigate the *right* limit. For a *left* limit, pass in `dir=\"-\"`, as with"
      ],
      "metadata": {}
    },
    {
      "outputs": [],
      "cell_type": "code",
      "source": [
        "lim(f, pi/2, dir=\"-\")"
      ],
      "metadata": {},
      "execution_count": null
    },
    {
      "cell_type": "markdown",
      "source": [
        "## Symbolic limits\n\nThe add-on package `SymPy` can be used to analytically compute the limit of a symbolic expressino. The package is loaded when `MTH229` is. `SymPy` provides the `limit` function.\nA sample usage is shown below:"
      ],
      "metadata": {}
    },
    {
      "outputs": [],
      "cell_type": "code",
      "source": [
        "f(x) = sin(x)/x\n@syms x\nlimit(f(x), x => 0)"
      ],
      "metadata": {},
      "execution_count": null
    },
    {
      "cell_type": "markdown",
      "source": [
        "The new command, `@syms x`, creates a symbolic variable named `x`. This makes `f(x)` a symbolic expression"
      ],
      "metadata": {}
    },
    {
      "outputs": [],
      "cell_type": "code",
      "source": [
        "f(x)"
      ],
      "metadata": {},
      "execution_count": null
    },
    {
      "cell_type": "markdown",
      "source": [
        "To find the limit of an expression, `ex`, as a symbolic variable, `x`, goes towards some value `c`, `0` in the above example, is performed by the command `limit(ex, x => c)`. SymPy finds the right limit by default. A left limit can be asked for with the additional argument `dir=\"-\"`.\n\n\n\n----"
      ],
      "metadata": {}
    },
    {
      "outputs": [],
      "cell_type": "code",
      "source": [
        ""
      ],
      "metadata": {},
      "execution_count": null
    }
  ],
  "nbformat_minor": 2,
  "metadata": {
    "language_info": {
      "file_extension": ".jl",
      "mimetype": "application/julia",
      "name": "julia",
      "version": "1.7.0"
    },
    "kernelspec": {
      "name": "julia-1.7",
      "display_name": "Julia 1.7.0",
      "language": "julia"
    }
  },
  "nbformat": 4
}
