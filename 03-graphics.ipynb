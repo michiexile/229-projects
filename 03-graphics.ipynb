{
  "cells": [
    {
      "cell_type": "markdown",
      "source": [
        "# Graphing functions with Julia\n\nRead about this here: [Graphing Functions with Julia](http://mth229.github.io/graphing.html).\n\nFor the impatient, `Julia` has several packages that allow for\ngraphical presentations, but nothing \"built-in.\"\n\nSeveral reasonable options exist, but these are the two most common:\n\n* `Plots` which offers a unified front end to several different plotting backends (`pyplot` or `matplotlib`;  `GR`; `plotly`; `unicodeplots`; and others).  Plots has a recipe system that makes  it  easier to add default plots to many object types. We will utilize the interface for functions.\n\n* `Makie` which offers the most  advanced  graphics interface, especially for 3-d  graphics.  It will *likely* be the default choice for `Julia` users at some point. The `MTH229` packages adds some of the \"recipes\" from `Plots` that make graphs of functions easy to make.\n\nIn order to use this \"package\" we need  to load it. In the following we also load a package  for this class  which  provides, among other things,  plot recipes for functions that we will utilize. Loading a package is done  through the `using` keyword, as follows:"
      ],
      "metadata": {}
    },
    {
      "outputs": [],
      "cell_type": "code",
      "source": [
        "using MTH229\nusing Plots"
      ],
      "metadata": {},
      "execution_count": null
    },
    {
      "cell_type": "markdown",
      "source": [
        "(Packages must be *added* once and *loaded* each  new session.)\n\n\nThe `Plots` package brings in a `plot` function that makes plotting functions as easy\nas specifying a function object and the $x$ domain to plot over:"
      ],
      "metadata": {}
    },
    {
      "outputs": [],
      "cell_type": "code",
      "source": [
        "f(x) = sin(x^2)\nplot(f, 0, 2pi)"
      ],
      "metadata": {},
      "execution_count": null
    },
    {
      "cell_type": "markdown",
      "source": [
        "Often most of the battle is *judiciously* choosing the range of values, $[a,b]$, so that the graph highlights a feature of interest: for example a\nrelative maximum or minimum, a zero, a vertical asymptote, a\nhorizontal asymptote, a slant asymptote...\n\n\nThe use of a function as an argument is not something done with a\ncalculator, but is very useful when using `Julia` for calculus, as many\nactions may be viewed as operating on the function $f$, not the values\nof the function, $f(x)$.\n\n### Backends\n\nThe `Plots` package has two backends installed with it, and others are available. The `gr()` backend is loaded by default. To try an *interactive* backend using web technologies, issue the command `plotly()`.\n\n----\n\nMore than one function can be plotted on a graph. The `plot!` function\nmakes this easy: make the first plot with `plot` and any additional\nones with `plot!`. For example:"
      ],
      "metadata": {}
    },
    {
      "outputs": [],
      "cell_type": "code",
      "source": [
        "plot(sin, 0, 2pi)\nplot!(cos)\nplot!(zero)"
      ],
      "metadata": {},
      "execution_count": null
    },
    {
      "cell_type": "markdown",
      "source": [
        "The legend can be suppressed by specifying `legend=false` to the first plot; e.g.\n `plot(sin,0, 2pi, legend=false)`.\n\n\n\n\n(A convention in `Julia` is to use a trailing `!` in a function name to indicate that the function will modify an existing object. In this case `plot!` modifies the existing plot, which is implicitly known to the function.)\n\n----\n\nA plot is nothing more than a connect-the-dot graph of paired $x$ and $y$\nvalues. It can be useful to know how to do the steps. The above graph of `sin` could\nbe done with:"
      ],
      "metadata": {}
    },
    {
      "outputs": [],
      "cell_type": "code",
      "source": [
        "a, b = 0, 2pi\nxs = range(a, b, length=50)  \t\t# 50 points between a and b\nys = sin.(xs)\t        # or ys = map(sin, xs) or ys = [sin(x) for x in xs] or sin.(xs) (see the notes)\nplot(xs, ys)"
      ],
      "metadata": {},
      "execution_count": null
    },
    {
      "cell_type": "markdown",
      "source": [
        "The `xs` and `ys` are written as though they are \"plural\" because\nthese variables contain 50 values each in a container (a vector in\nthis case). The function call `sin.(xs)` adds a \"dot\" between the function name and the parentheses. This syntax instructs `Julia` to \"broadcast\" `sin` to *each* value in the container `xs`. Similar commands to do this are `map(sin, xs)` (a \"map\") or `[sin(x) for x in xs]` (a \"comprehension\").\n\nThe plot \"recipe\" for plotting functions provided  by `Plots`  does a bit more than this, as it adaptively specifies the points to plot.\n\n\n\nThe  `scatter!` function can be used to add points to a graph. These are specified as collections of `x` and `y` values.\n\n\n\n\n\n## NaN values.\n\nThe value `NaN` is a floating point value that arises during some\nindeterminate operations, such as `0/0`. The `plot` function\nwill stop connecting the dots when it\nencounters an `NaN` value. This convention can be gainfully employed.\n\n\n\n\n\n## Mapping a function over a collection\n\nIn `Julia` a collection of values can be made by combining them with\nsquare brackets, as in `[1,1,2,3,5]`. The  square  brackets use a vector for  the  enclosing  container. Parentheses also combine  values using a  \"tuple.\"\n\nFor reqular patterns the colon operator\ncan be used: `1:5` is essentially  `[1,2,3,4,5]`. If  the gap  between succesive  numbers is not  `1`, but, say, `h`,  it  can be set  with the syntax  `a:h:b`.\n\nThe `range` function is  also used  to  specify regular patterns, as in: `range(a, b, length=100)`. The length is a keyword argument, `a` and `b` are positional.\nUsing  the colon  syntax or the `range` function only\ncreates a means to generate values, rather than the values\nthemselves.\n\nCollections of values are useful for many reasons. We will\nsee later how they are used to store the zeros of a function.\n\n`Julia` has a few different ways of applying a function to each value\nin a collection.  The `map` function, called as `map(f, collection)`\nwill work, as will the \"dot\" notation of `f.(collection)`.\n\nFor example, here is  *one*  way to the create values  $1/10,   1/100, \\dots, 1/10^5$:"
      ],
      "metadata": {}
    },
    {
      "outputs": [],
      "cell_type": "code",
      "source": [
        "ns = 1:5\nf(n) = 1/10^n\nf.(ns)"
      ],
      "metadata": {},
      "execution_count": null
    }
  ],
  "nbformat_minor": 2,
  "metadata": {
    "language_info": {
      "file_extension": ".jl",
      "mimetype": "application/julia",
      "name": "julia",
      "version": "1.7.0"
    },
    "kernelspec": {
      "name": "julia-1.7",
      "display_name": "Julia 1.7.0",
      "language": "julia"
    }
  },
  "nbformat": 4
}
