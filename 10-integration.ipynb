{
  "cells": [
    {
      "cell_type": "markdown",
      "source": [
        "# Numeric  integration  with Julia\n\nTo get started, we load the `MTH229` package:"
      ],
      "metadata": {}
    },
    {
      "outputs": [],
      "cell_type": "code",
      "source": [
        "using MTH229\nusing Plots"
      ],
      "metadata": {},
      "execution_count": null
    },
    {
      "cell_type": "markdown",
      "source": [
        "### Quick background\n\nRead more about this material here: [integration](http://mth229.github.io/integration.html).\n\nFor the impatient, in many cases the task of evaluating a definite integral is made easy\nby the fundamental theorem of calculus, one part of which states that for\na continuous function $f$ with (any) antiderivative, $F$,  the definite integral can be computed through:\n\n$$~\n\\int_a^b f(x) dx = F(b) - F(a).\n~$$\n\nThat is, the definite integral is found by evaluating a related\nfunction at the endpoints, $a$ and $b$.\n\n\nThe `SymPy` package can compute many antiderivatives using a version\nof the [Risch algorithm](http://en.wikipedia.org/wiki/Risch\\_algorithm) that works for [elementary functions](http://en.wikipedia.org/wiki/Elementary\\_function). `SymPy`'s `integrate` function can be used to find an indefinite integral:"
      ],
      "metadata": {}
    },
    {
      "outputs": [],
      "cell_type": "code",
      "source": [
        "f(x) = x^2\n@syms x\nintegrate(f(x), x)"
      ],
      "metadata": {},
      "execution_count": null
    },
    {
      "cell_type": "markdown",
      "source": [
        "Or a definite integral by passing in values `a` and `b` through the grouping `(x,a,b)`:"
      ],
      "metadata": {}
    },
    {
      "outputs": [],
      "cell_type": "code",
      "source": [
        "integrate(f(x), (x, 0, 1))\t\t# returns a \"symbolic\" number"
      ],
      "metadata": {},
      "execution_count": null
    },
    {
      "cell_type": "markdown",
      "source": [
        "However, this only works *if* there is a known antiderivative $F(x)$---which is not always the case. If not, what to do?\n\nIn this case, we can appeal to the *definition* of the definite\nintegral. For continuous non-negative $f(x)$, the definite integral\nis the area under the graph of $f$ over the interval $[a,b]$. For\npossibly negative functions, the indefinite integral is found by the\n*signed* area under $f$.  This area can be directly *approximated*\nusing Riemann sums, or some other approximation scheme.\n\n\nThe Riemann approximation for a definite integral uses approximating\nrectangles. The following pattern will compute a Riemann sum with\nequal-sized partitions using right-hand endpoints:"
      ],
      "metadata": {}
    },
    {
      "outputs": [],
      "cell_type": "code",
      "source": [
        "f(x) = x^2\na, b, n = 0, 1, 5\t\t# 5 partitions of [0,1] requested\ndelta = (b - a)/n\t\t# size of partition\nxs = a .+ (1:n) * delta\nsum(f.(xs) * delta)\t\t# a new function `sum` to add up values in a container"
      ],
      "metadata": {},
      "execution_count": null
    },
    {
      "cell_type": "markdown",
      "source": [
        "That value isn't very close to $1/3$. But we only took $n=5$\nrectangles $-$ clearly there will be some error, as we can see in this\nfigure, where each approximating rectangle overestimates the area\nunder the curve:"
      ],
      "metadata": {}
    },
    {
      "outputs": [],
      "cell_type": "code",
      "source": [
        "f(x) = x^2\na, b, n = 0, 1, 5\nlinspace(a,b,n=51) = range(a,stop=b, length=n)\nxs = linspace(a, b, n + 1)\np = plot(f, a, b, legend=false, linewidth=3)\nplot!(p, zero, a, b)\nfor i in 2:length(xs)\n  plot!(p, [xs[i-1], xs[i-1], xs[i], xs[i]], f(xs[i]) * [0, 1, 1, 0])\nend\np"
      ],
      "metadata": {},
      "execution_count": null
    },
    {
      "cell_type": "markdown",
      "source": [
        "Bigger $n$s mean better approximations. This figure overlays the\npicture with $n=10$ and emphasizes the excess area that is lost:"
      ],
      "metadata": {}
    },
    {
      "outputs": [],
      "cell_type": "code",
      "source": [
        "f(x) = x^2\na, b, n = 0, 1, 10\nxs = linspace(a, b, n + 1)\np = plot(f, a, b, legend=false, linewidth=3)\nplot!(p, zero, a, b)\nfor i in 3:2:length(xs)\n  plot!(p, [xs[i-2], xs[i-2], xs[i], xs[i]], f(xs[i]) * [0, 1, 1, 0], color=:green)\nend\nfor i in 2:length(xs)\n  plot!(p, [xs[i-1], xs[i-1], xs[i], xs[i]], f(xs[i]) * [0, 1, 1, 0], color=:red)\nend\nfor i in 2:2:length(xs)\n  a,b,fa, fb = xs[i-1], xs[i], f(xs[i]), f(xs[i+1])\n  plot!(p, [a,a,b,b,a], [fa,fb,fb,fa,fa], linewidth=3, color=:brown)\nend\np"
      ],
      "metadata": {},
      "execution_count": null
    },
    {
      "cell_type": "markdown",
      "source": [
        "With large `n` the figures become too crowded to illustrate, but we can easily use a large value of `n` in our computations. With $n=50,000$ we have the first $4$ decimal points are accurate:"
      ],
      "metadata": {}
    },
    {
      "outputs": [],
      "cell_type": "code",
      "source": [
        "f(x) = x^2\na, b, n = 0, 1, 50_000\t\t# 50,000 partitions of [0,1] requested\ndelta = (b - a)/n\nxs = a .+ (1:n) * delta\nsum(f.(xs) * delta)"
      ],
      "metadata": {},
      "execution_count": null
    },
    {
      "cell_type": "markdown",
      "source": [
        "Note that only the first two lines of the calculation needed changing\nto adjust to a new problem. As the pattern is similar, it is fairly\neasy to wrap the computations in a function for convenience. This is done for you in the `MTH229` package. The name is `riemann`. The above would be done through:"
      ],
      "metadata": {}
    },
    {
      "outputs": [],
      "cell_type": "code",
      "source": [
        "f(x) = x^2\na, b, n = 0, 1, 50_000\nriemann(f, a, b, n)"
      ],
      "metadata": {},
      "execution_count": null
    },
    {
      "cell_type": "markdown",
      "source": [
        "----\n\nThe Riemann sum is slow to converge here. There are faster\nalgorithms both mathematically and computationally. We will briefly discuss\ntwo: the [trapezoid](https://en.wikipedia.org/wiki/Trapezoidal_rule) rule, which replaces rectangles with\ntrapezoids; and [Simpson's](https://en.wikipedia.org/wiki/Simpson%27s_rule)rule which is a quadratic approximation. Each is invoked by passing a value to the `method` argument:"
      ],
      "metadata": {}
    },
    {
      "outputs": [],
      "cell_type": "code",
      "source": [
        "f(x) = x^2\nriemann(f, 0, 1, 1000, method=\"trapezoid\")"
      ],
      "metadata": {},
      "execution_count": null
    },
    {
      "cell_type": "markdown",
      "source": [
        "And for Simpson's method:"
      ],
      "metadata": {}
    },
    {
      "outputs": [],
      "cell_type": "code",
      "source": [
        "riemann(f, 0, 1, 1000, method=\"simpsons\")"
      ],
      "metadata": {},
      "execution_count": null
    },
    {
      "cell_type": "markdown",
      "source": [
        "----\n\nFor real-world use, `Julia` has the `QuadGK` package and its function\n`quadgk`, By using a different approach altogether, this function is\nmuch more efficient and estimates the potential error in the\napproximation.  It is used quite easily---no $n$ is needed, as the\nalgorithm is adaptive:"
      ],
      "metadata": {}
    },
    {
      "outputs": [],
      "cell_type": "code",
      "source": [
        "f(x) = x^2\nanswer, err = quadgk(f, 0, 1)"
      ],
      "metadata": {},
      "execution_count": null
    },
    {
      "cell_type": "markdown",
      "source": [
        "The `quadgk` function returns two values, an answer and an estimated maximum\npossible error.  The answer is the first number, clearly it is $1/3$, and\nthe estimated maximum error is the second. In this case it is small\n($10^{-17}$) $-$ basically 0.\n\n----\n\nIn summary we consider here these functions to find definite\nintegrals:\n\n* `integrate`---symbolically find a definite integral using the fundamental theorem of calculus, **if possible**.\n\n* `riemann`---approximate a definite integral using either Riemann sums or a related method.\n\n* `quadgk`---use Gauss quadrature approach to efficiently find approximations to definite integrals.\n\n\n\n## Different interpretations of other integrals\n\nThe integral can represent other quantities besides the area under a curve. We give two examples: arc-length and certain volumes of revolution.\n\nA formula to compute the length of a the graph of the function $f(x)$\n  from $a$ to $b$ is given by the formula:\n\n$$~\n\\int_a^b \\sqrt{1 + f'(x)^2} dx\n~$$\n\n\nThat is, a function *related* to $f$ is integrated and this has a different interpretation than the area under $f$.\n\nFor example, the arc-length of the square root function between $[0, 4]$ is given by:"
      ],
      "metadata": {}
    },
    {
      "outputs": [],
      "cell_type": "code",
      "source": [
        "f(x) = sqrt(x)\ndL(x) = sqrt(1 + f'(x)^2)\nanswer, err = quadgk(dL, 0, 4)"
      ],
      "metadata": {},
      "execution_count": null
    },
    {
      "cell_type": "markdown",
      "source": [
        "## Application: Volume of glasses.\n\nWe discuss an application of the integral to finding volumes---not areas.\n\nA *solid of revolution* is a figure with rotational symmetry around\nsome axis, such as a soda can, a snow cone, a red solo cup, and other\ncommon objects. A formula for the volume of an object with rotational\nsymmetry can be written in terms of an integral based on a function,\n$r(h)$, which specifies the radius for various values of $h$.\n\n> If the radius as a function of height is given by $r(h)$, the\n> the volume is $\\int_a^b \\pi r(h)^2 dh$.\n\n\nSo for example, a baseball has a overall diameter of $2\\cdot 37$mm,\nbut if we place the center at the origin, its rotational radius is\ngiven by $r(h) = (37^2 - h^2)^{1/2}$ for $-37 \\leq h \\leq 37$. The\nvolume in mm$^3$ is given by:"
      ],
      "metadata": {}
    },
    {
      "outputs": [],
      "cell_type": "code",
      "source": [
        "r(h) = (37^2 - h^2)^(1/2)\nv(h) = pi * r(h)^2\nanswer, err = quadgk(v, -37, 37)"
      ],
      "metadata": {},
      "execution_count": null
    },
    {
      "cell_type": "markdown",
      "source": [
        "The volume in cubic inches, then is:"
      ],
      "metadata": {}
    },
    {
      "outputs": [],
      "cell_type": "code",
      "source": [
        "answer / (2.54 * 10)^3"
      ],
      "metadata": {},
      "execution_count": null
    },
    {
      "cell_type": "markdown",
      "source": [
        "----"
      ],
      "metadata": {}
    },
    {
      "outputs": [],
      "cell_type": "code",
      "source": [
        ""
      ],
      "metadata": {},
      "execution_count": null
    }
  ],
  "nbformat_minor": 2,
  "metadata": {
    "language_info": {
      "file_extension": ".jl",
      "mimetype": "application/julia",
      "name": "julia",
      "version": "1.7.0"
    },
    "kernelspec": {
      "name": "julia-1.7",
      "display_name": "Julia 1.7.0",
      "language": "julia"
    }
  },
  "nbformat": 4
}
