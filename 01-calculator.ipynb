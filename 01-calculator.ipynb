{
  "cells": [
    {
      "cell_type": "markdown",
      "source": [
        "# Using Julia as a calculator\n\n\n### Quick background\n\nRead about this material here: [Julia as a calculator](http://mth229.github.io/calculator.html).\n\nFor the impatient, these questions cover the use of `Julia` to replace what a calculator can do.\n\n\n#### The common operations on numbers: addition, subtraction,  multiplication, division, and powers.\n\nFor the most part there is no surprise, once you learn the notations:\n  `+`, `-`, `*`, `/`, and `^`. (Though you may find that copying and\n  pasting minus signs will often cause an error, as only something\n  that looks like a minus sign is pasted in.)\n\nUsing `IJulia`, one types the following into a cell and then presses\nthe *run* button (or *shift-enter*):"
      ],
      "metadata": {}
    },
    {
      "outputs": [],
      "cell_type": "code",
      "source": [
        "2 + 2"
      ],
      "metadata": {},
      "execution_count": null
    },
    {
      "cell_type": "markdown",
      "source": [
        "The answer follows below the cell.\n\nHere is how one does a slightly more complicated computation:"
      ],
      "metadata": {}
    },
    {
      "outputs": [],
      "cell_type": "code",
      "source": [
        "(2 + 3)^4/(5 + 6)"
      ],
      "metadata": {},
      "execution_count": null
    },
    {
      "cell_type": "markdown",
      "source": [
        "As with your calculator, it is very important to use parentheses, as\nappropriate, to circumvent the usual order of operations.\n\n\n\n\n#### The use of the basic families of function: trigonometric, exponential, logarithmic.\n\nOn a calculator, there are buttons used to compute various functions. In `Julia`, there are *many* pre-defined functions that serve a similar role (later you will see how to define your own). Functions in `Julia` have names and are called using parentheses to enclose their argument(s), as with:"
      ],
      "metadata": {}
    },
    {
      "outputs": [],
      "cell_type": "code",
      "source": [
        "sin(pi/4), cos(pi/3)"
      ],
      "metadata": {},
      "execution_count": null
    },
    {
      "cell_type": "markdown",
      "source": [
        "(With `IJulia`, when a cell is executed only the last command computed\nis displayed, the above shows that using a comma to separate commands\n\ton the same line can be used to get two or more commands to be\ndisplayed.)\n\nMost basic functions in `Julia` have easy to guess names, though you\nwill need to learn some differences, such as `log` is for $\\ln$ and\n`asin` for $\\sin^{-1}$. Function names encountered in this class include: `sqrt`, `cbrt`, `sin`, `cos`, `tan`,  `asin`, `acos`, `atan`,`exp`, and `log`.\n\n\nThe trigonometric functions use *radians*. For degree measure the conversion factor $\\pi/180$ must be judiciously employed.\n\nThe function $f(x) = e^x$ is implemented with function `exp(x)` and **not** using `e^x`. In base Julia `e` is note defined.\n\n\n#### The use of memory registers to remember intermediate values.\n\nRather than have numbered memory registers, it is *easy* to assign a name to a value. For example,"
      ],
      "metadata": {}
    },
    {
      "outputs": [],
      "cell_type": "code",
      "source": [
        "x = 42"
      ],
      "metadata": {},
      "execution_count": null
    },
    {
      "cell_type": "markdown",
      "source": [
        "Names can be reassigned and repurposed. *However*, a function name can\nnot be repurposed as a variable name and a variable name can not be\nrepurposed as a function name. You will get an `ERROR` message if this\nis tried. (A suggestion is to use longer descriptive names or follow\nmath conventions: use `x`, `y`, `z`, ... for variables; `f` and `g`\nfor functions; and `a`,`b`, ... for parameters, though even then\nvalues like `h` may play a dual role)\n\n\nFor assigning more than one value at once, commas can be used as with:"
      ],
      "metadata": {}
    },
    {
      "outputs": [],
      "cell_type": "code",
      "source": [
        "a,b,c = 1,2,3"
      ],
      "metadata": {},
      "execution_count": null
    },
    {
      "cell_type": "markdown",
      "source": [
        "#### Julia, like math, has different number types\n\n\nUnlike a calculator, but just like math, `Julia` has different types of\nnumbers: integers, rational numbers, real numbers, and complex\nnumbers. For the most part the distinction isn't much to worry about,\nbut there are times where one must, such as overflow with\nintegers. (One can only take the factorial of 20 with 64-bit integers,\nwhereas on most calculators a factorial of 69 can be taken, but\nnot 70.) Julia automatically assigns a type when it parses a value: a\n`1` will be an integer, a `1.0` an floating point number. Rational\nnumbers are made by using two division symbols, `1//2`.\n\nFor many operations the type will be conserved, such as adding to\nintegers. For some operations, the type will be converted, such as\ndividing two integer values. Mathematically, we know we can divide\nsome integers and still get an integer, but `Julia` usually opts for\nthe same output for its functions (and division is also a function)\nbased on the type of the input, not the specific values of the input.\n\n\n## Numbers\n\n\nScientific notation represents real numbers as $\\pm a \\cdot 10^b$, where\n$b$ is an integer, and $a$ may be a real number in the range $[1.0, 10)$.\nIn `Julia` such numbers are represented with an `e` to replace\nthe 10, as with `1.2e3` which would be $1.2 \\cdot 10^3$ (better known as 1,230) or\n`3.2e-1`, which would be $3.2 \\cdot 10^{-1}$ (which is equal to $0.32$). Take note that this $e$ is not the special base of the natural logarithm, but is just notation indicating a power of $10$. To use this notation, you must have a number immediately before the \"e\", not a space or an asterisk. That is these are **not correct:** `1.2*e3` or `12 e 3`.\n\n----"
      ],
      "metadata": {}
    },
    {
      "outputs": [],
      "cell_type": "code",
      "source": [
        ""
      ],
      "metadata": {},
      "execution_count": null
    }
  ],
  "nbformat_minor": 2,
  "metadata": {
    "language_info": {
      "file_extension": ".jl",
      "mimetype": "application/julia",
      "name": "julia",
      "version": "1.7.0"
    },
    "kernelspec": {
      "name": "julia-1.7",
      "display_name": "Julia 1.7.0",
      "language": "julia"
    }
  },
  "nbformat": 4
}
