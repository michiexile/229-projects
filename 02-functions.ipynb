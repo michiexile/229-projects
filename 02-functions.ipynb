{
  "cells": [
    {
      "cell_type": "markdown",
      "source": [
        "# Functions in Julia\n\nRead more about this [here](http://mth229.github.io/functions.html).\n\n\nFor some problems herein, you  will need features  made  available in  the add-on `MTH229` package, which is loaded with  the following  command:"
      ],
      "metadata": {}
    },
    {
      "outputs": [],
      "cell_type": "code",
      "source": [
        "using MTH229"
      ],
      "metadata": {},
      "execution_count": null
    },
    {
      "cell_type": "markdown",
      "source": [
        "(When you run the cell to load the `MTH229` -- and other add-on packages -- an asterisk will appear in the label to the left of the cell: `[*]`. When the packages have been loaded, which can take awhile, the asterisk will turn into a number.)\n\n----\n\nFor the impatient:\n\nA *function* in mathematics is [defined](http://tinyurl.com/c2rwqyb)\nas \"a relation between a set of inputs and a set of permissible\noutputs with the property that each input is related to exactly one\noutput.\" That is a general definition. Specialized to mathematical\nfunctions of one real variable returning a real value (univariate functions), we can define a\nfunction in terms of a rule---what happens to $x$ to produce $y$, such as this one which squares $x$ then subtracts $2$:\n\n$$~\nf(x) = x^2 - 2.\n~$$\n\nThe **domain** of a function is the set of all permissible values for\n$x$, in this example this is all $x$, but this need not be the case\neither due to the rule not being defined for some $x$ or a more\nexplicit restriction, such as $x \\geq 0$. The **range** is the set of\nall possible outputs. Written in set notation, this is\n$\\{f(x): x \\in \\text{ the domain }\\}$.\n\nMathematically, we evaluate or **call** a function with the notation\n$f(2)$ or $f(3)$, say.\n\nMathematically we might refer to the function by its name, $f$, or its\nvalues such as $f(2)$ or $f(\\pi)$.\n\n\nIn `Julia` basic mathematical functions are defined and used with the\n*exact* same notation, save for accommodations in translating math to `Julia`.\n\n\nFor example, this command creates a function `f`:"
      ],
      "metadata": {}
    },
    {
      "outputs": [],
      "cell_type": "code",
      "source": [
        "f(x) = x^2 - 2"
      ],
      "metadata": {},
      "execution_count": null
    },
    {
      "cell_type": "markdown",
      "source": [
        "Unlike an expression, the value `x` in the definition of `f(x)` does not\nneed to be defined until the function is actually called. As with math, this\nvariable name need not be `x` -- it could be `t`, `y`, `theta`, or any other valid name.\n\nWe *call* `f` for the given value using the same `f(x)` notation. For\nexample, finding our `f` at the value of `2` is done with:"
      ],
      "metadata": {}
    },
    {
      "outputs": [],
      "cell_type": "code",
      "source": [
        "f(2)"
      ],
      "metadata": {},
      "execution_count": null
    },
    {
      "cell_type": "markdown",
      "source": [
        "That is, as with typical mathematical notation, the function is \"called\" by\npassing a value to it with parentheses.\n\nWithin a cell, we can evaluate one or more values by using commas to separate them:"
      ],
      "metadata": {}
    },
    {
      "outputs": [],
      "cell_type": "code",
      "source": [
        "f(1), f(2), f(3)"
      ],
      "metadata": {},
      "execution_count": null
    },
    {
      "cell_type": "markdown",
      "source": [
        "The function name refers to the function object:"
      ],
      "metadata": {}
    },
    {
      "outputs": [],
      "cell_type": "code",
      "source": [
        "f"
      ],
      "metadata": {},
      "execution_count": null
    },
    {
      "cell_type": "markdown",
      "source": [
        "Don't worry about the words \"generic\" and \"method\", but be aware that\nbecause of this once you have defined a name as a variable it can not be\nre-purposed as a *generic* function name and vice versa. (In the common first case, read the error\nmessage, it will say something like: `ERROR: cannot define function a;\nit already has a value`.)\n\n\nThe \"domain\" of a `Julia` function is similar in meaning to its mathematical counterpart. `Julia` may respond with different values, such as `Inf`, for infinity; `NaN`, when an expression is indeterminate; or it may throw an error, typically a `DomainError`:"
      ],
      "metadata": {}
    },
    {
      "outputs": [],
      "cell_type": "code",
      "source": [
        "f(x) = sqrt(x)/(x*(1-x))\nf(1), f(0)"
      ],
      "metadata": {},
      "execution_count": null
    },
    {
      "cell_type": "markdown",
      "source": [
        "and an error with:"
      ],
      "metadata": {}
    },
    {
      "outputs": [],
      "cell_type": "code",
      "source": [
        "f(-1)"
      ],
      "metadata": {},
      "execution_count": null
    },
    {
      "cell_type": "markdown",
      "source": [
        "Functions can be more complicated than the \"one-liners\"\nillustrated. In that case, a multiline form is available:"
      ],
      "metadata": {}
    },
    {
      "outputs": [],
      "cell_type": "code",
      "source": [
        "function fn_name(args...)\n  body\nend"
      ],
      "metadata": {},
      "execution_count": null
    },
    {
      "cell_type": "markdown",
      "source": [
        "The keyword `function` indicates this is a function whose name is\ngiven in the definition. Within the body, the last expression\nevaluated is the output, unless a `return` statement is used.\n\n\n----\n\nFor basic uses of functions---90 percent of the uses in this class---the above covers what you need to know about functions.\n\n\n## Cases\n\nSome functions are defined in terms of cases. For example, a cell phone plan might depend on the data used through:\n\n> The amount is 35 dollars for the first 9 Gb  of data, and 10 dollars more for each *additional* Gb of data.\n\nThis function has two cases to consider: one if the data is less than 9 Gb and the other when it is more.\n\nIn a math class we would write this as:\n\n$$~\ncost(data) = \\begin{cases}\n35.0,                   & data \\leq 9.0 \\\\\n35.0+10.0*(data-9.0), & \\text{otherwise.}\n\\end{cases}\n~$$\n\n\nHow to write this in `Julia`?\n\n\nThe ternary operator `predicate ? expression1 : expression2` has three\npieces: a predicate question, such as `x < 10` and two expressions,\nthe first is evaluated if the predicate is `true` and the second if\nthe predicate is `false`. Using the ternary operator, simple case-like functions can be defined in one line.\n\nFor example, the above can be defined in `Julia` with:"
      ],
      "metadata": {}
    },
    {
      "outputs": [],
      "cell_type": "code",
      "source": [
        "cost(data) = data <= 9.0 ? 35.00 : 35.00 + 10.00 * (data - 9.0)"
      ],
      "metadata": {},
      "execution_count": null
    },
    {
      "cell_type": "markdown",
      "source": [
        "So, three pieces: **first**, you ask a question. **Second**, what should the function do if the answer is 'yes'? **Third**, what should the function do if the answer is 'no'?\n\n\n## Composition\n\nComposition of functions is a useful means to break complicated\nproblems into easier to solve ones. The math notation is typically\n$f(g(x))$ and in `Julia` this is no different.\n\n\n## Functions may need more than one argument\n\nIn `Julia` some functions require more than one argument. There are two ways that a function can distinguish between arguments:\n\n**Using position**. A typical case is the function expressing the $\\log$ of $x$ base $b$. The function must have both a position to pass in values for either $x$ or $b$. In `Julia` the function is written `log(b, x)`:"
      ],
      "metadata": {}
    },
    {
      "outputs": [],
      "cell_type": "code",
      "source": [
        "b, x = 5, 100\na = log(b, x)\nb^a - x  # verify, is this close to 0?"
      ],
      "metadata": {},
      "execution_count": null
    },
    {
      "cell_type": "markdown",
      "source": [
        "(This also shows that `Julia` can have the same name for **different** functions, as `log(x)` does the logarithm base $e$ and takes only 1 argument.)\n\n**Using keyword names**. Some arguments can be designated by a \"keyword\", which can have default values. This is common in general, but not so much used within these notes. This style provides a natural means to pass *parameters* to a function.\n\nPlotting is where we will find the most usage. Keywords are used for adjustments, such as to the line style or color.  Plotting features are provided in add-on packages. This command loads the `Plots` package, which we will use in these notes."
      ],
      "metadata": {}
    },
    {
      "outputs": [],
      "cell_type": "code",
      "source": [
        "using Plots"
      ],
      "metadata": {},
      "execution_count": null
    },
    {
      "cell_type": "markdown",
      "source": [
        "Here is a mathematical example from the theory of [wavelets](https://en.wikipedia.org/wiki/Wavelet).\n\nDefine `mother` by"
      ],
      "metadata": {}
    },
    {
      "outputs": [],
      "cell_type": "code",
      "source": [
        "mother(x) = (sin(2*pi*x) - sin(pi*x))/(pi*x)"
      ],
      "metadata": {},
      "execution_count": null
    },
    {
      "cell_type": "markdown",
      "source": [
        "This function is *scaled* and *shifted* in application. To keep track of the scale (by `a`) and the shift (by `b`) we might define a function that allows these to be passed as *parameters*"
      ],
      "metadata": {}
    },
    {
      "outputs": [],
      "cell_type": "code",
      "source": [
        "child(x; a=1, b=0) = mother((x-b)/a) / sqrt(a)"
      ],
      "metadata": {},
      "execution_count": null
    },
    {
      "cell_type": "markdown",
      "source": [
        "This would then be called like:"
      ],
      "metadata": {}
    },
    {
      "outputs": [],
      "cell_type": "code",
      "source": [
        "child(1/2)"
      ],
      "metadata": {},
      "execution_count": null
    },
    {
      "cell_type": "markdown",
      "source": [
        "to reference the *default* parameters (which align with `mother`) or with other parameters, e.g.:"
      ],
      "metadata": {}
    },
    {
      "outputs": [],
      "cell_type": "code",
      "source": [
        "child(1/1, a = 2, b = 1)"
      ],
      "metadata": {},
      "execution_count": null
    },
    {
      "cell_type": "markdown",
      "source": [
        "## Functions can be used as arguments to other functions:\n\nCalculus has three main operations: The limit of a *function*, the\nderivative of a *function*, and the integral of a *function*.  These\noperations take a function and compute some value. For limits this\nvalue is a number, for derivatives this value is another function. In\n`Julia` we will use functions to implement each.\n\nUsing `Julia` operations on functions are just functions where the\n*arguments* are themselves functions and, *possibly*, the return\nvalue is also a function.\n\nThe first example we will encounter is related to plotting. The\ndetails come another day, but here is the pattern to make a plot\n(assuming the `MTH229` package and the `Plots` packages have been loaded):"
      ],
      "metadata": {}
    },
    {
      "outputs": [],
      "cell_type": "code",
      "source": [
        "f(x) = sin(x^2)\nplot(f, 0, pi)"
      ],
      "metadata": {},
      "execution_count": null
    },
    {
      "cell_type": "markdown",
      "source": [
        "The first argument to `plot` is a function object--not a function\ncall, as in `f(x)`, the second and third describe an interval to plot\nover. This will be a typical pattern: `someaction(f, arguments...)`.\n\n----"
      ],
      "metadata": {}
    },
    {
      "outputs": [],
      "cell_type": "code",
      "source": [
        ""
      ],
      "metadata": {},
      "execution_count": null
    }
  ],
  "nbformat_minor": 2,
  "metadata": {
    "language_info": {
      "file_extension": ".jl",
      "mimetype": "application/julia",
      "name": "julia",
      "version": "1.7.0"
    },
    "kernelspec": {
      "name": "julia-1.7",
      "display_name": "Julia 1.7.0",
      "language": "julia"
    }
  },
  "nbformat": 4
}
