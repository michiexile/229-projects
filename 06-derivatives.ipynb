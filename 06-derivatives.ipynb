{
  "cells": [
    {
      "cell_type": "markdown",
      "source": [
        "# Approximate derivatives with Julia\n\n\nTo get started, we load the `MTH229` package and a plotting package:"
      ],
      "metadata": {}
    },
    {
      "outputs": [],
      "cell_type": "code",
      "source": [
        "using MTH229\nusing Plots"
      ],
      "metadata": {},
      "execution_count": null
    },
    {
      "cell_type": "markdown",
      "source": [
        "----\n\n\n### Quick background\n\nRead about this material here: [Approximate derivatives in julia](http://mth229.github.io/derivatives.html).\n\nFor the impatient, A secant line connecting points on the graph of $f(x)$ between $x=c$ and $x = c+h$ has slope:\n\n$$~\n\\frac{f(c+h) - f(c)}{h}.\n~$$\n\n\nThe slope of the tangent line to the graph of\n$f(x)$ at the point $(c,f(c))$ is given by taking the limit as $h$ goes to $0$:\n\n$$~\n\\lim_{h \\rightarrow 0} \\frac{f(c + h) - f(c)}{h}.\n~$$\n\nThe notation for this - when the limit exists - is $f'(c)$.\n\n\n\nIn general the derivative of a function $f(x)$ is the function\n$f'(x)$, which returns the slope of the tangent line for each $x$\nwhere it is defined. For many functions, finding the derivative is\nstraightforward, though may be complicated enough to seek alternatives. At times approximating the\nvalue is desirable.\n\n#### Approximate derivatives\n\nWe can approximate the slope of the tangent line several ways. The\n*forward difference quotient* takes a small value of $h$ and uses the\nvalue $(f(x+h) - f(x))/h$ as an approximation.\n\n\nFor example, to estimate the derivative of $x^{\\ln(x)}$ at $c=2$ with `h=1e-6` we could have"
      ],
      "metadata": {}
    },
    {
      "outputs": [],
      "cell_type": "code",
      "source": [
        "f(x) = x^log(x)\nc, h = 2, 1e-6\n(f(c+h) - f(c))/h"
      ],
      "metadata": {},
      "execution_count": null
    },
    {
      "cell_type": "markdown",
      "source": [
        "The above pattern finds the approximate derivative at the point $c$. Though this\ncan be pushed to return a function giving the derivative at any point,\nwe will use the more convenient solution described next for finding\nthe derivative as a function, when applicable.\n\n\n#### Automatic derivatives\n\nIn mathematics we use the notation $f'(x)$ to refer the function that\nfinds the derivative of $f(x)$ at a given $x$. The `MTH229` package\nprovides the same notation in `Julia`.\nIn  the  background, this uses *automatic differentiation*, as provided by\nthe `ForwardDiff` package, to\ncompute the  derivative. Automatic differentiation is a tad slower than using a\nhand-computed derivative, but as accurate as that, and much easier and   more  accurate than using an\n*approximate derivative*.\n\n\nThe `MTH229` package, using `ForwardDiff.derivative`, overloads  the default meaning of `'` allowing the usual notation for a derivative to be used:"
      ],
      "metadata": {}
    },
    {
      "outputs": [],
      "cell_type": "code",
      "source": [
        "f(x) = sin(x)\nf'(pi), f''(pi)"
      ],
      "metadata": {},
      "execution_count": null
    },
    {
      "cell_type": "markdown",
      "source": [
        "#### Symbolic derivatives\n\nAutomatic differentiation gives accurate numeric values for first, second, and\neven higher-order derivatives. It does not however, return the\nexpression one would get were these computed by hand. The `diff` function from `SymPy` will\nfind symbolic derivatives, similar to what is achieved when differentiating \"by hand,\" though for many problems the effort will be much less.\n\nThe `diff` function can be called with a symbolic expression and a variable to differentiate in:"
      ],
      "metadata": {}
    },
    {
      "outputs": [],
      "cell_type": "code",
      "source": [
        "f(x) = exp(x^2) * sin(sqrt(x))\n@syms x\ndiff(f(x), x)"
      ],
      "metadata": {},
      "execution_count": null
    },
    {
      "cell_type": "markdown",
      "source": [
        "### Tangent lines\n\n\nThe tangent line to the graph of $f(x)$ at $x=c$ is given by $y=f(c)+f'(c)(x-c)$.\nIt is fairly easy to plot both the function and its\ntangent line - we just need a function to compute the tangent\nline. Such a function, `tangent(f,c)` is found in the `MTH229` package. This function consumes a function (`f`) and a point (`c`) and returns a **function** of `x` returning the `y` values of the tangent line.\n\nHere we see how to use it and the related  `secant(f,a,b)` function:"
      ],
      "metadata": {}
    },
    {
      "outputs": [],
      "cell_type": "code",
      "source": [
        "f(x) = x^x\na,b = 1/2, 2\nc = 1\nplot(f, 1/4, 2.5, legend=false)\nplot!(secant(f, a, b))\nplot!(tangent(f, c))"
      ],
      "metadata": {},
      "execution_count": null
    },
    {
      "cell_type": "markdown",
      "source": [
        "#### Higher-order derivatives\n\n\nHigher-order derivatives can be computed as well:\n\nAutomatic derivatives can be computed using the usual notation, e.g., `f''`  to find $f''(x)$.\n\nHigher-order symbolic derivatives can be computed by passing the order to `diff` as a second argument, as in `diff(f(x), x, n)`.\n\nFor example, consider $f(x) = e^x \\sin(x)$. We have:"
      ],
      "metadata": {}
    },
    {
      "outputs": [],
      "cell_type": "code",
      "source": [
        "f(x) = exp(x) * sin(x)\nf''(3)"
      ],
      "metadata": {},
      "execution_count": null
    },
    {
      "cell_type": "markdown",
      "source": [
        "As compared to the symbolic answer:"
      ],
      "metadata": {}
    },
    {
      "outputs": [],
      "cell_type": "code",
      "source": [
        "@syms x\nfpp = diff(f(x), x, 2) # or diff(f(x), x, x)"
      ],
      "metadata": {},
      "execution_count": null
    },
    {
      "cell_type": "markdown",
      "source": [
        "and its numeric  value at `3`:"
      ],
      "metadata": {}
    },
    {
      "outputs": [],
      "cell_type": "code",
      "source": [
        "N(fpp(3))    # make numeric"
      ],
      "metadata": {},
      "execution_count": null
    },
    {
      "cell_type": "markdown",
      "source": [
        "----"
      ],
      "metadata": {}
    },
    {
      "outputs": [],
      "cell_type": "code",
      "source": [
        ""
      ],
      "metadata": {},
      "execution_count": null
    }
  ],
  "nbformat_minor": 2,
  "metadata": {
    "language_info": {
      "file_extension": ".jl",
      "mimetype": "application/julia",
      "name": "julia",
      "version": "1.7.0"
    },
    "kernelspec": {
      "name": "julia-1.7",
      "display_name": "Julia 1.7.0",
      "language": "julia"
    }
  },
  "nbformat": 4
}
