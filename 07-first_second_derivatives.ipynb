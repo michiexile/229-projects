{
  "cells": [
    {
      "cell_type": "markdown",
      "source": [
        "# Exploring first and second derivatives with Julia\n\n\nTo get started, we load the `MTH229` package:"
      ],
      "metadata": {}
    },
    {
      "outputs": [],
      "cell_type": "code",
      "source": [
        "using MTH229\nusing Plots"
      ],
      "metadata": {},
      "execution_count": null
    },
    {
      "cell_type": "markdown",
      "source": [
        "Recall, when `MTH229` is loaded, the same prime\nnotation of mathematics is available in `Julia` for indicating\nderivatives of functions (through `ForwardDiff`).\n\n\n\n## Quick background\n\nRead about this material here: [Exploring first and second derivatives with Julia](http://mth229.github.io/first-second-derivatives.html).\n\n\nFor the impatient, this assignment looks at the relationship between a\nfunction, $f(x)$, and its first and second derivatives: $f'(x)$ and\n$f''(x)$. The basic relationship can be summarized (though the devil\nis in the details) by:\n\n* If the first derivative is *positive* on $(a,b)$ then the function\n  is *increasing* on $(a,b)$.\n\n* If the second derivative is *positive* on $(a,b)$ then the function\n  is *concave up* on $(a,b)$.\n\n(The \"devil\" here is that the converse statements are usually - but not always - true.)\n\n\nSome key  definitions are:\n\n* A **critical** point of $f$ is a value in the domain of $f(x)$ for which the derivative is $0$ or undefined. These are often---but **not always**---where $f(x)$ has a local maximum or minimum.\n\n* An **inflection point** of $f$ is a value in the domain of $f(x)$ where the concavity of $f$ *changes*. (These are *often*---but **not always**---where $f''(x)=0$.)\n\n\nThese two relationships and definitions are put to use to characterize\n*local extrema* of a function via one of two \"derivative\" tests:\n\n\n* The **first derivative test**:  This states that  if $c$ is a critical point of $f(x)$ then if $f'(x)$ changes sign from $+$ to $-$ at $c$ then $f(c)$ is a local maximum and if $f'(x)$ changes sign from $-$ to $+$ then $f(c)$ is a local minimum. If there is no sign change, then $f(c)$ is neither a local minimum or maximum.\n\n* The **second derivative test**: This states that if $c$ is a critical point of $f(x)$ and $f''(c) > 0$ then $f(c)$ is a local minimum and if $f''(c) < 0$ then $f(c)$ is a local maximum. The test says nothing about the case $f''(c) = 0$.\n\n----\n\nWe investigate these concepts in `Julia` both graphically and numerically.\n\nFor the graphical exploration, the `plotif` function from the `MTH229` package is quite useful.\nIt is used to plot a function `f` using two colors; the color choice depending on\nwhether the second function, `g` is positive or not. (Basically it does `plot(f, a, b); plot!(x -> g(x) > 0.0 ? f(x) : NaN, a, b)`.)\n\n\nThis function can be used to graphically illustrate where the graph of `f` is *positive*, *increasing*, or *concave up*:\n`plotif(f, f, a, b)` will show a different color when $f(x)$ is\n*positive*, `plotif(f, f', a, b)` will show a different color when\n$f(x)$ is *increasing*, and  `plotif(f, f'', a, b)` will show a different color when\n$f(x)$ is *concave up*. For example, here we see where the following `f` is increasing:"
      ],
      "metadata": {}
    },
    {
      "outputs": [],
      "cell_type": "code",
      "source": [
        "f(x) = 1 + cos(x) + cos(2x)\nplotif(f, f', 0, 2pi)  # color increasing\nplot!(zero)"
      ],
      "metadata": {},
      "execution_count": null
    },
    {
      "cell_type": "markdown",
      "source": [
        "A similar helpful function is `sign_chart` which will numerically identify zero crossings and infinities and indicate how the function changes sign:"
      ],
      "metadata": {}
    },
    {
      "outputs": [],
      "cell_type": "code",
      "source": [
        "sign_chart(f, 0, 2pi)"
      ],
      "metadata": {},
      "execution_count": null
    },
    {
      "cell_type": "markdown",
      "source": [
        "----\n\n\nOnce eyes are trained to identify zeros, critical points, or\ninflection points of a function, we can use numeric methods to zoom in\non more accurate values.  Recall, `fzero(f, a, b)` will find a zero of\n`f` **if** `[a,b]` is a *bracketing* interval (`f` takes different signs\nat the endpoints); and `fzeros(f, a, b)` will look for all zeros of\n`f` within the interval `[a,b]`, not necessarily a bracketing one. The\n`fzeros` function returns a container of values, which may, of course,\nbe empty.\n\nFor example to find a zero in `f` near `1.5` we would first graph. We can then identify $[1,2]$ as a bracketing interval, and solve with:"
      ],
      "metadata": {}
    },
    {
      "outputs": [],
      "cell_type": "code",
      "source": [
        "f(x) = 1 + cos(x) + cos(2x)\nfzero(f, 1, 2)"
      ],
      "metadata": {},
      "execution_count": null
    },
    {
      "cell_type": "markdown",
      "source": [
        "If our task was to get *all* critical points of `f` in the interval\n$(0, 2\\pi)$, then `fzeros` is the easier-to-use choice: As `f` is\ncontinuously differentiable, all critical points are given by solving\n$f'(x)=0$:"
      ],
      "metadata": {}
    },
    {
      "outputs": [],
      "cell_type": "code",
      "source": [
        "zs = fzeros(f', 0, 2pi)"
      ],
      "metadata": {},
      "execution_count": null
    },
    {
      "cell_type": "markdown",
      "source": [
        "The answer from `fzeros` is a vector of values. You can get individual\nones different ways or work with them all at once. For example, here is\nthe function's value at each of the critical points:"
      ],
      "metadata": {}
    },
    {
      "outputs": [],
      "cell_type": "code",
      "source": [
        "f.(zs)   # or more explicitly map(f, zs)"
      ],
      "metadata": {},
      "execution_count": null
    },
    {
      "cell_type": "markdown",
      "source": [
        "## Careful\n\nThe `fzeros` function is only *pretty* good at finding all the zeros over the interval. For some functions -- especially those cooked up by clever math professors -- the choice of interval can lead to `fzeros` finding fewer than is mathematically possible. The function should be used in combination with a plot and with as narrow an interval specified, as reasonable.\n\n\n\n----"
      ],
      "metadata": {}
    },
    {
      "outputs": [],
      "cell_type": "code",
      "source": [
        ""
      ],
      "metadata": {},
      "execution_count": null
    }
  ],
  "nbformat_minor": 2,
  "metadata": {
    "language_info": {
      "file_extension": ".jl",
      "mimetype": "application/julia",
      "name": "julia",
      "version": "1.7.0"
    },
    "kernelspec": {
      "name": "julia-1.7",
      "display_name": "Julia 1.7.0",
      "language": "julia"
    }
  },
  "nbformat": 4
}
